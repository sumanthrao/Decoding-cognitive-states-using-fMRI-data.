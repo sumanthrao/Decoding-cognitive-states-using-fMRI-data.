{
 "cells": [
  {
   "cell_type": "code",
   "execution_count": 5,
   "metadata": {},
   "outputs": [],
   "source": [
    "import scipy.io\n",
    "from sklearn.model_selection import train_test_split\n",
    "import numpy as np\n",
    "from sklearn.svm import SVC\n",
    "from sklearn.feature_selection import SelectPercentile, f_classif\n",
    "from sklearn.model_selection import LeaveOneGroupOut, cross_val_score\n",
    "from sklearn.pipeline import Pipeline\n",
    "from sklearn.ensemble import AdaBoostClassifier"
   ]
  },
  {
   "cell_type": "code",
   "execution_count": 6,
   "metadata": {},
   "outputs": [],
   "source": [
    "def load_data(file = 'data-starplus-04847-v7.mat'):\n",
    "    # load the data for one subject\n",
    "    data = scipy.io.loadmat(file)\n",
    "    return data"
   ]
  },
  {
   "cell_type": "code",
   "execution_count": 7,
   "metadata": {},
   "outputs": [],
   "source": [
    "def load_metadata(data):\n",
    "    #metadata\n",
    "    meta_data = data['meta']\n",
    "    print(\"the study subject:\", meta_data['study'])\n",
    "    print(\"the number of trials:\",meta_data['ntrials'])\n",
    "    print(\"the rois in the data:\",meta_data['roi'][0][0][0].split('_'))\n",
    "    return meta_data"
   ]
  },
  {
   "cell_type": "markdown",
   "metadata": {},
   "source": [
    "info: This variable defines the experiment in terms of a sequence of 'trials'.\n",
    "'info' is a 1x54 struct array, describing the 54 time intervals, or trials.\n",
    "Most of these time intervals correspond to trials during which the subject views\n",
    "a single picture and a single sentence, and presses a button to indicate whether\n",
    "the sentence correctly describes the picture.  Other time intervals correspond\n",
    "to rest periods.  The relevant fields of info are illustrated in the following\n",
    "example:\n",
    "\n",
    "info(18)\n",
    " mint: 894\n",
    " maxt: 948\n",
    " cond: 2       \n",
    " firstStimulus: 'P'\n",
    " sentence: ''It is true that the star is below the plus.''\n",
    " sentenceRel: 'below'\n",
    " sentenceSym1: 'star'\n",
    " sentenceSym2: 'plus'\n",
    " img: sap\n",
    " actionAnswer: 0\n",
    " actionRT: 3613\n",
    "\n",
    "info.mint gives the time of the first image in the interval (the minimum time)\n",
    "\n",
    "info.maxt gives the time of the last image in the interval (the maximum time)\n",
    "\n",
    "info.cond has possible values 0,1,2,3.  Cond=0 indicates the data in this\n",
    "segment should be ignored. Cond=1 indicates the segment is a rest, or fixation\n",
    "interval.  Cond=2 indicates the interval is a sentence/picture trial in which\n",
    "the sentence is not negated.  Cond=3 indicates the interval is a\n",
    "sentence/picture trial in which the sentence is negated.\n",
    "\n",
    "info.firstStimulus: is either 'P' or 'S' indicating whether this trail was\n",
    "obtained during the session is which Pictures were presented before sentences,\n",
    "or during the session in which Sentences were presented before pictures.  The\n",
    "first 27 trials have firstStimulus='P', the remained have firstStimulus='S'.\n",
    "Note this value is present even for trials that are rest trials.  You can pick\n",
    "out the trials for which sentences and pictures were presented by selecting just\n",
    "the trials trials with info.cond=2 or info.cond=3.\n",
    "\n",
    "info.sentence gives the sentence presented during this trial.  If none, the\n",
    "value is '' (the empty string).  The fields info.sentenceSym1,\n",
    "info.sentenceSym2, and info.sentenceRel describe the two symbols mentioned in\n",
    "the sentence, and the relation between them.\n",
    "\n",
    "info.img describes the image presented during this trial.  For example, 'sap'\n",
    "means the image contained a 'star above plus'.  Each image has two tokens, where\n",
    "one is above the other.  The possible tokens are star (s), plus (p), and dollar\n",
    "(d).\n",
    "\n",
    "info.actionAnswer: has values -1 or 0.  A value of 0 indicates the subject is\n",
    "expected to press the answer button during this trial (either the 'yes' or 'no'\n",
    "button to indicate whether the sentence correctly describes the picture).  A\n",
    "value of -1 indicates it is inappropriate for the subject to press the answer\n",
    "button during this trial (i.e., it is a rest, or fixation trial).\n",
    "\n",
    "info.actionRT: gives the reaction time of the subject, measured as the time at\n",
    "which they pressed the answer button, minus the time at which the second\n",
    "stimulus was presented.  Time is in milliseconds.  If the subject did not press\n",
    "the button at all, the value is 0."
   ]
  },
  {
   "cell_type": "code",
   "execution_count": 8,
   "metadata": {},
   "outputs": [],
   "source": [
    "#get only the ROI that is relevant and gives us the best performance\n",
    "def check_ROI_relevancy(data_meta, voxel_index):\n",
    "    ROIs_to_consider = ['CALC', 'LIPL', 'LT', 'LTRIA', 'LOPER', 'LIPS', 'LDLPFC']\n",
    "    if(data_meta['colToROI'][0][0][voxel_index][0][0] in ROIs_to_consider):\n",
    "        return True\n",
    "    return False"
   ]
  },
  {
   "cell_type": "code",
   "execution_count": 9,
   "metadata": {},
   "outputs": [],
   "source": [
    "# prepare voxel list of ROIs\n",
    "def prepare_ROI_voxel_list(data):\n",
    "    voxel_list = []\n",
    "    for i in range(4634):\n",
    "        if(check_ROI_relevancy(data['meta'], i)):\n",
    "            voxel_list.append(i)\n",
    "    return voxel_list"
   ]
  },
  {
   "cell_type": "code",
   "execution_count": 129,
   "metadata": {},
   "outputs": [],
   "source": [
    "# function to obtain the 3D voxel stimulus data \n",
    "def get_trial_data_for_stimulus_with_ROI_selection(data):\n",
    "    data_voxels = data['data']\n",
    "    data_info = data['info']\n",
    "    data_meta = data['meta']\n",
    "    #print(data_info['cond'][0][53][0][0])\n",
    "    # The first stimulus (sentence or picture) was presented at the begining of the trail (image=1).\n",
    "    # Four seconds later (image=9) the stimulus was removed, replaced by a blank screen.\n",
    "    # Four seconds later (image=17) the second stimulus was presented. This remained on the screen for four seconds, or until the subject pressed the mouse button, whichever came first.\n",
    "    # A rest period of 15 seconds (30 images) was added after the second stimulus was removed from the screen. Thus, each trial lasted a total of approximately 27 seconds (approximately 54 images).\n",
    "    out = []\n",
    "    stimulus_period = [1,2,3,4,5,6,7,8,17,18,19,20,21,22,23,24]\n",
    "    condition = []\n",
    "    condition_s = [1]*8+[0]*8\n",
    "    condition_p = [0]*8+[1]*8\n",
    "    print(data_voxels[1][0].shape)\n",
    "    print(data['meta']['colToROI'][0][0][8][0][0])\n",
    "    voxel_list = prepare_ROI_voxel_list(data)\n",
    "    print(len(voxel_list))\n",
    "    print(\"loop\",len(data_voxels))\n",
    "    for i in range(1,len(data_voxels)):\n",
    "        if(data_info['cond'][0][i][0][0]==2 or data_info['cond'][0][i][0][0]==3 and data_voxels[i][0].shape[0]>25):\n",
    "            #print(data_voxels[i][0][stimulus_period][2])\n",
    "            #print(data_voxels[i][0][stimulus_period].shape)\n",
    "            for k in stimulus_period:\n",
    "                #print(len(data_voxels[i][0][[k]][0][voxel_list]))\n",
    "                out.append(data_voxels[i][0][[k]][0][voxel_list])\n",
    "                #out.extend(data_voxels[i][0][stimulus_period])\n",
    "            #print(len(out))\n",
    "            if (i<27):\n",
    "                condition += condition_p\n",
    "            else:\n",
    "                condition += condition_s\n",
    "                \n",
    "                \n",
    "    for i in range(len(out)):\n",
    "        out[i] = out[i][:1678]\n",
    "        #print(len(out[i]))\n",
    "    print(len(out[0]))\n",
    "    print(len(condition))\n",
    "    return np.array(out),np.array(condition)\n"
   ]
  },
  {
   "cell_type": "code",
   "execution_count": 130,
   "metadata": {},
   "outputs": [],
   "source": [
    "# function to obtain the 3D voxel stimulus data \n",
    "def get_trial_data_for_stimulus(data):\n",
    "    data_voxels = data['data']\n",
    "    data_info = data['info']\n",
    "    data_meta = data['meta']\n",
    "    print(data_info['cond'][0][53][0][0])\n",
    "    # The first stimulus (sentence or picture) was presented at the begining of the trail (image=1).\n",
    "    # Four seconds later (image=9) the stimulus was removed, replaced by a blank screen.\n",
    "    # Four seconds later (image=17) the second stimulus was presented. This remained on the screen for four seconds, or until the subject pressed the mouse button, whichever came first.\n",
    "    # A rest period of 15 seconds (30 images) was added after the second stimulus was removed from the screen. Thus, each trial lasted a total of approximately 27 seconds (approximately 54 images).\n",
    "    out = []\n",
    "    stimulus_period = [1,2,3,4,5,6,7,8,17,18,19,20,21,22,23,24]\n",
    "    condition = []\n",
    "    condition_s = [1]*8+[0]*8\n",
    "    condition_p = [0]*8+[1]*8\n",
    "    print(data_voxels[1][0].shape)\n",
    "    print(data['meta']['colToROI'][0][0][8][0][0])\n",
    "    for i in range(1,len(data_voxels)):\n",
    "        if(data_info['cond'][0][i][0][0]==2 or data_info['cond'][0][i][0][0]==3 and data_voxels[i][0].shape[0]>25):\n",
    "            \n",
    "            out.extend(data_voxels[i][0][stimulus_period])\n",
    "            if (i<27):\n",
    "                condition += condition_p\n",
    "            else:\n",
    "                condition += condition_s\n",
    "                \n",
    "    print(len(out))\n",
    "    print(len(condition))\n",
    "    out = out[:770]\n",
    "    condition = condition[:770]\n",
    "    return np.array(out),np.array(condition)\n"
   ]
  },
  {
   "cell_type": "code",
   "execution_count": 131,
   "metadata": {},
   "outputs": [],
   "source": [
    "def SVC_caller(X, conditions):\n",
    "    svc = SVC(kernel='poly')\n",
    "\n",
    "    # Define the dimension reduction to be used.\n",
    "    # Here we use a classical univariate feature selection based on F-test,\n",
    "    # namely Anova. When doing full-brain analysis, it is better to use\n",
    "    # SelectPercentile, keeping 5% of voxels\n",
    "    # (because it is independent of the resolution of the data).\n",
    "    feature_selection = SelectPercentile(f_classif, percentile=5)\n",
    "    X_train, X_test, y_train, y_test = train_test_split(\n",
    "    X, conditions, test_size=0.33, random_state=78)\n",
    "\n",
    "    # We have our classifier (SVC), our feature selection (SelectPercentile),and now,\n",
    "    # we can plug them together in a *pipeline* that performs the two operations\n",
    "    # successively:\n",
    "    anova_svc = Pipeline([('anova', feature_selection), ('svc', svc)])\n",
    "    anova_svc.fit(X_train, y_train)\n",
    "    score = anova_svc.score(X_test, y_test)\n",
    "    # Compute the prediction accuracy for the different folds (i.e. session)\n",
    "\n",
    "    # Return the corresponding mean prediction accuracy\n",
    "    #classification_accuracy = cv_scores.mean()\n",
    "   \n",
    "    # Print the results\n",
    "    print(\"Classification accuracy: %.4f / Chance level: %f\" %\n",
    "          (score, 1. / 2))\n",
    "    # Classification accuracy:  0.70370 / Chance level: 0.5000\n",
    "    "
   ]
  },
  {
   "cell_type": "code",
   "execution_count": 132,
   "metadata": {},
   "outputs": [],
   "source": [
    "def Ada_boost(X, y):\n",
    "    clf = AdaBoostClassifier(n_estimators=100)\n",
    "    scores = cross_val_score(clf, X, y, cv=5)\n",
    "    print(\"Classification accuracy: %.4f / Chance level: %f\" %\n",
    "          (scores.mean(), 1. / 2))"
   ]
  },
  {
   "cell_type": "code",
   "execution_count": 136,
   "metadata": {},
   "outputs": [],
   "source": [
    "def SVC_on_multiple_subjects(subject_file):\n",
    "    \n",
    "    subjects = ['data-starplus-04847-v7.mat','data-starplus-05710-v7.mat', 'data-starplus-04799-v7.mat', 'data-starplus-04820-v7.mat', 'data-starplus-05675-v7.mat', 'data-starplus-05680-v7.mat']\n",
    "    \n",
    "    data = load_data(subjects[0])\n",
    "    meta_data = load_metadata(data)\n",
    "    X, y = get_trial_data_for_stimulus_with_ROI_selection(data)\n",
    "    for file in subjects[1:]:\n",
    "        data = load_data(file)\n",
    "        meta_data = load_metadata(data)\n",
    "        X_out, y_out = get_trial_data_for_stimulus_with_ROI_selection(data)\n",
    "        X = np.concatenate((X,X_out), axis=0)\n",
    "        y = np.concatenate((y,y_out), axis=0)\n",
    "    \n",
    "    print(\"Extracted stimulus data for the trial: shape - \",(X.shape), type(X))\n",
    "    print(\"Extracted stimulus label for the trial: shape - \",(len(y)), type(y))\n",
    "    print(\"-----------------------------------------------------------------\\n\")\n",
    "    SVC_caller(X, y)"
   ]
  },
  {
   "cell_type": "code",
   "execution_count": 137,
   "metadata": {},
   "outputs": [],
   "source": [
    "def AdaBoost_on_single_subject(subject_file):\n",
    "    data = load_data(file = subject_file)\n",
    "    meta_data = load_metadata(data)\n",
    "    \n",
    "    X, y = get_trial_data_for_stimulus_with_ROI_selection(data)\n",
    "    print(\"Extracted stimulus data for the trial: shape - \",(X.shape), type(X))\n",
    "    print(\"Extracted stimulus label for the trial: shape - \",(len(y)), type(y))\n",
    "    print(\"-----------------------------------------------------------------\\n\")\n",
    "    Ada_boost(X, y)\n",
    "    "
   ]
  },
  {
   "cell_type": "code",
   "execution_count": 138,
   "metadata": {},
   "outputs": [
    {
     "name": "stdout",
     "output_type": "stream",
     "text": [
      "the study subject: [[array(['data-starplus'], dtype='<U13')]]\n",
      "the number of trials: [[array([[54]], dtype=uint8)]]\n",
      "the rois in the data: ['CALC', 'LFEF', 'LIPL', 'LIT', 'LPPREC', 'LSPL', 'LTRIA', 'RFEF', 'RIPS', 'ROPER', 'RSGA', 'RT', 'SMA', 'LDLPFC', 'LIPS', 'LOPER', 'LSGA', 'LT', 'RDLPFC', 'RIPL', 'RIT', 'RPPREC', 'RSPL', 'RTRIA']\n",
      "(55, 4698)\n",
      "LDLPFC\n",
      "1678\n",
      "loop 54\n",
      "1678\n",
      "640\n"
     ]
    },
    {
     "name": "stderr",
     "output_type": "stream",
     "text": [
      "/Users/sumanth/opt/anaconda3/lib/python3.7/site-packages/ipykernel_launcher.py:4: FutureWarning: elementwise comparison failed; returning scalar instead, but in the future will perform elementwise comparison\n",
      "  after removing the cwd from sys.path.\n"
     ]
    },
    {
     "name": "stdout",
     "output_type": "stream",
     "text": [
      "the study subject: [[array(['data-starplus'], dtype='<U13')]]\n",
      "the number of trials: [[array([[54]], dtype=uint8)]]\n",
      "the rois in the data: ['CALC', 'LFEF', 'LIPL', 'LIT', 'LPPREC', 'LSPL', 'LTRIA', 'RFEF', 'RIPS', 'ROPER', 'RSGA', 'RT', 'SMA', 'LDLPFC', 'LIPS', 'LOPER', 'LSGA', 'LT', 'RDLPFC', 'RIPL', 'RIT', 'RPPREC', 'RSPL', 'RTRIA']\n",
      "(55, 4634)\n",
      "LDLPFC\n",
      "1883\n",
      "loop 54\n",
      "1678\n",
      "640\n",
      "the study subject: [[array(['data-starplus'], dtype='<U13')]]\n",
      "the number of trials: [[array([[54]], dtype=uint8)]]\n",
      "the rois in the data: ['CALC', 'LFEF', 'LIPL', 'LIT', 'LPPREC', 'LSPL', 'LTRIA', 'RFEF', 'RIPS', 'ROPER', 'RSGA', 'RT', 'SMA', 'LDLPFC', 'LIPS', 'LOPER', 'LSGA', 'LT', 'RDLPFC', 'RIPL', 'RIT', 'RPPREC', 'RSPL', 'RTRIA']\n",
      "(55, 4949)\n",
      "RDLPFC\n",
      "1812\n",
      "loop 54\n",
      "1678\n",
      "640\n",
      "the study subject: [[array(['data-starplus'], dtype='<U13')]]\n",
      "the number of trials: [[array([[54]], dtype=uint8)]]\n",
      "the rois in the data: ['CALC', 'LFEF', 'LIPL', 'LIT', 'LPPREC', 'LSPL', 'LTRIA', 'RFEF', 'RIPS', 'ROPER', 'RSGA', 'RT', 'SMA', 'LDLPFC', 'LIPS', 'LOPER', 'LSGA', 'LT', 'RDLPFC', 'RIPL', 'RIT', 'RPPREC', 'RSPL', 'RTRIA']\n",
      "(55, 5015)\n",
      "RDLPFC\n",
      "1717\n",
      "loop 54\n",
      "1678\n",
      "640\n",
      "the study subject: [[array(['data-starplus'], dtype='<U13')]]\n",
      "the number of trials: [[array([[53]], dtype=uint8)]]\n",
      "the rois in the data: ['CALC', 'LFEF', 'LIPL', 'LIT', 'LPPREC', 'LSPL', 'LTRIA', 'RFEF', 'RIPS', 'ROPER', 'RSGA', 'RT', 'SMA', 'LDLPFC', 'LIPS', 'LOPER', 'LSGA', 'LT', 'RDLPFC', 'RIPL', 'RIT', 'RPPREC', 'RSPL', 'RTRIA']\n",
      "(55, 5135)\n",
      "LDLPFC\n",
      "2026\n",
      "loop 53\n",
      "1678\n",
      "640\n",
      "the study subject: [[array(['data-starplus'], dtype='<U13')]]\n",
      "the number of trials: [[array([[54]], dtype=uint8)]]\n",
      "the rois in the data: ['CALC', 'LFEF', 'LIPL', 'LIT', 'LPPREC', 'LSPL', 'LTRIA', 'RFEF', 'RIPS', 'ROPER', 'RSGA', 'RT', 'SMA', 'LDLPFC', 'LIPS', 'LOPER', 'LSGA', 'LT', 'RDLPFC', 'RIPL', 'RIT', 'RPPREC', 'RSPL', 'RTRIA']\n",
      "(55, 5062)\n",
      "LDLPFC\n",
      "1999\n",
      "loop 54\n",
      "1678\n",
      "640\n",
      "Extracted stimulus data for the trial: shape -  (3840, 1678) <class 'numpy.ndarray'>\n",
      "Extracted stimulus label for the trial: shape -  3840 <class 'numpy.ndarray'>\n",
      "-----------------------------------------------------------------\n",
      "\n",
      "Classification accuracy: 0.5513 / Chance level: 0.500000\n"
     ]
    }
   ],
   "source": [
    "SVC_on_multiple_subjects('data-starplus-04847-v7.mat')"
   ]
  },
  {
   "cell_type": "code",
   "execution_count": 139,
   "metadata": {},
   "outputs": [
    {
     "name": "stdout",
     "output_type": "stream",
     "text": [
      "the study subject: [[array(['data-starplus'], dtype='<U13')]]\n",
      "the number of trials: [[array([[54]], dtype=uint8)]]\n",
      "the rois in the data: ['CALC', 'LFEF', 'LIPL', 'LIT', 'LPPREC', 'LSPL', 'LTRIA', 'RFEF', 'RIPS', 'ROPER', 'RSGA', 'RT', 'SMA', 'LDLPFC', 'LIPS', 'LOPER', 'LSGA', 'LT', 'RDLPFC', 'RIPL', 'RIT', 'RPPREC', 'RSPL', 'RTRIA']\n",
      "(55, 4698)\n",
      "LDLPFC\n",
      "1678\n",
      "loop 54\n",
      "1678\n",
      "640\n",
      "Extracted stimulus data for the trial: shape -  (640, 1678) <class 'numpy.ndarray'>\n",
      "Extracted stimulus label for the trial: shape -  640 <class 'numpy.ndarray'>\n",
      "-----------------------------------------------------------------\n",
      "\n"
     ]
    },
    {
     "name": "stderr",
     "output_type": "stream",
     "text": [
      "/Users/sumanth/opt/anaconda3/lib/python3.7/site-packages/ipykernel_launcher.py:4: FutureWarning: elementwise comparison failed; returning scalar instead, but in the future will perform elementwise comparison\n",
      "  after removing the cwd from sys.path.\n"
     ]
    },
    {
     "name": "stdout",
     "output_type": "stream",
     "text": [
      "Classification accuracy: 0.5484 / Chance level: 0.500000\n"
     ]
    }
   ],
   "source": [
    "AdaBoost_on_single_subject('data-starplus-04847-v7.mat')"
   ]
  },
  {
   "cell_type": "code",
   "execution_count": null,
   "metadata": {},
   "outputs": [],
   "source": []
  }
 ],
 "metadata": {
  "kernelspec": {
   "display_name": "Python 3",
   "language": "python",
   "name": "python3"
  },
  "language_info": {
   "codemirror_mode": {
    "name": "ipython",
    "version": 3
   },
   "file_extension": ".py",
   "mimetype": "text/x-python",
   "name": "python",
   "nbconvert_exporter": "python",
   "pygments_lexer": "ipython3",
   "version": "3.7.6"
  }
 },
 "nbformat": 4,
 "nbformat_minor": 4
}
