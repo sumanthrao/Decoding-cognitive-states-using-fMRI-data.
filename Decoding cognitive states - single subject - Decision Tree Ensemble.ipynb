{
 "cells": [
  {
   "cell_type": "code",
   "execution_count": 1,
   "metadata": {},
   "outputs": [],
   "source": [
    "import scipy.io\n",
    "from sklearn.model_selection import train_test_split\n",
    "import numpy as np\n",
    "from sklearn.svm import SVC\n",
    "from sklearn.feature_selection import SelectPercentile, f_classif\n",
    "from sklearn.model_selection import LeaveOneGroupOut, cross_val_score\n",
    "from sklearn.pipeline import Pipeline\n",
    "from sklearn.ensemble import AdaBoostClassifier"
   ]
  },
  {
   "cell_type": "code",
   "execution_count": 2,
   "metadata": {},
   "outputs": [],
   "source": [
    "# load the data for one subject\n",
    "data = scipy.io.loadmat('data-starplus-04847-v7.mat')"
   ]
  },
  {
   "cell_type": "code",
   "execution_count": 3,
   "metadata": {},
   "outputs": [
    {
     "name": "stdout",
     "output_type": "stream",
     "text": [
      "the study subject: [[array(['data-starplus'], dtype='<U13')]]\n",
      "the number of trials: [[array([[54]], dtype=uint8)]]\n",
      "the rois in the data: ['CALC', 'LFEF', 'LIPL', 'LIT', 'LPPREC', 'LSPL', 'LTRIA', 'RFEF', 'RIPS', 'ROPER', 'RSGA', 'RT', 'SMA', 'LDLPFC', 'LIPS', 'LOPER', 'LSGA', 'LT', 'RDLPFC', 'RIPL', 'RIT', 'RPPREC', 'RSPL', 'RTRIA']\n"
     ]
    }
   ],
   "source": [
    "#metadata\n",
    "meta_data = data['meta']\n",
    "print(\"the study subject:\", meta_data['study'])\n",
    "print(\"the number of trials:\",meta_data['ntrials'])\n",
    "print(\"the rois in the data:\",meta_data['roi'][0][0][0].split('_'))"
   ]
  },
  {
   "cell_type": "markdown",
   "metadata": {},
   "source": [
    "info: This variable defines the experiment in terms of a sequence of 'trials'.\n",
    "'info' is a 1x54 struct array, describing the 54 time intervals, or trials.\n",
    "Most of these time intervals correspond to trials during which the subject views\n",
    "a single picture and a single sentence, and presses a button to indicate whether\n",
    "the sentence correctly describes the picture.  Other time intervals correspond\n",
    "to rest periods.  The relevant fields of info are illustrated in the following\n",
    "example:\n",
    "\n",
    "info(18)\n",
    " mint: 894\n",
    " maxt: 948\n",
    " cond: 2       \n",
    " firstStimulus: 'P'\n",
    " sentence: ''It is true that the star is below the plus.''\n",
    " sentenceRel: 'below'\n",
    " sentenceSym1: 'star'\n",
    " sentenceSym2: 'plus'\n",
    " img: sap\n",
    " actionAnswer: 0\n",
    " actionRT: 3613\n",
    "\n",
    "info.mint gives the time of the first image in the interval (the minimum time)\n",
    "\n",
    "info.maxt gives the time of the last image in the interval (the maximum time)\n",
    "\n",
    "info.cond has possible values 0,1,2,3.  Cond=0 indicates the data in this\n",
    "segment should be ignored. Cond=1 indicates the segment is a rest, or fixation\n",
    "interval.  Cond=2 indicates the interval is a sentence/picture trial in which\n",
    "the sentence is not negated.  Cond=3 indicates the interval is a\n",
    "sentence/picture trial in which the sentence is negated.\n",
    "\n",
    "info.firstStimulus: is either 'P' or 'S' indicating whether this trail was\n",
    "obtained during the session is which Pictures were presented before sentences,\n",
    "or during the session in which Sentences were presented before pictures.  The\n",
    "first 27 trials have firstStimulus='P', the remained have firstStimulus='S'.\n",
    "Note this value is present even for trials that are rest trials.  You can pick\n",
    "out the trials for which sentences and pictures were presented by selecting just\n",
    "the trials trials with info.cond=2 or info.cond=3.\n",
    "\n",
    "info.sentence gives the sentence presented during this trial.  If none, the\n",
    "value is '' (the empty string).  The fields info.sentenceSym1,\n",
    "info.sentenceSym2, and info.sentenceRel describe the two symbols mentioned in\n",
    "the sentence, and the relation between them.\n",
    "\n",
    "info.img describes the image presented during this trial.  For example, 'sap'\n",
    "means the image contained a 'star above plus'.  Each image has two tokens, where\n",
    "one is above the other.  The possible tokens are star (s), plus (p), and dollar\n",
    "(d).\n",
    "\n",
    "info.actionAnswer: has values -1 or 0.  A value of 0 indicates the subject is\n",
    "expected to press the answer button during this trial (either the 'yes' or 'no'\n",
    "button to indicate whether the sentence correctly describes the picture).  A\n",
    "value of -1 indicates it is inappropriate for the subject to press the answer\n",
    "button during this trial (i.e., it is a rest, or fixation trial).\n",
    "\n",
    "info.actionRT: gives the reaction time of the subject, measured as the time at\n",
    "which they pressed the answer button, minus the time at which the second\n",
    "stimulus was presented.  Time is in milliseconds.  If the subject did not press\n",
    "the button at all, the value is 0."
   ]
  },
  {
   "cell_type": "code",
   "execution_count": 4,
   "metadata": {},
   "outputs": [
    {
     "name": "stdout",
     "output_type": "stream",
     "text": [
      "the length of the info element of this subject is: (1, 54)\n",
      "the number of trials is: (54, 1)\n"
     ]
    }
   ],
   "source": [
    "#data analysis\n",
    "print(\"the length of the info element of this subject is:\",data['info'].shape)\n",
    "print(\"the number of trials is:\", data['data'].shape)"
   ]
  },
  {
   "cell_type": "code",
   "execution_count": 5,
   "metadata": {},
   "outputs": [],
   "source": [
    "#get only the ROI that is relevant and gives us the best performance\n",
    "def check_ROI_relevancy(data_meta, voxel_index):\n",
    "    ROIs_to_consider = ['CALC', 'LIPL', 'LT', 'LTRIA', 'LOPER', 'LIPS', 'LDLPFC']\n",
    "    if(data_meta['colToROI'][0][0][voxel_index][0][0] in ROIs_to_consider):\n",
    "        return True\n",
    "    return False"
   ]
  },
  {
   "cell_type": "code",
   "execution_count": 6,
   "metadata": {},
   "outputs": [],
   "source": [
    "# prepare voxel list of ROIs\n",
    "def prepare_ROI_voxel_list():\n",
    "    voxel_list = []\n",
    "    for i in range(4634):\n",
    "        if(check_ROI_relevancy(data['meta'], i)):\n",
    "            voxel_list.append(i)\n",
    "    return voxel_list"
   ]
  },
  {
   "cell_type": "code",
   "execution_count": 131,
   "metadata": {},
   "outputs": [],
   "source": [
    "# function to obtain the 3D voxel stimulus data \n",
    "def get_trial_data_for_stimulus_with_ROI_selection(data):\n",
    "    data_voxels = data['data']\n",
    "    data_info = data['info']\n",
    "    data_meta = data['meta']\n",
    "    print(data_info['cond'][0][53][0][0])\n",
    "    # The first stimulus (sentence or picture) was presented at the begining of the trail (image=1).\n",
    "    # Four seconds later (image=9) the stimulus was removed, replaced by a blank screen.\n",
    "    # Four seconds later (image=17) the second stimulus was presented. This remained on the screen for four seconds, or until the subject pressed the mouse button, whichever came first.\n",
    "    # A rest period of 15 seconds (30 images) was added after the second stimulus was removed from the screen. Thus, each trial lasted a total of approximately 27 seconds (approximately 54 images).\n",
    "    out = []\n",
    "    stimulus_period = [1,2,3,4,5,6,7,8,17,18,19,20,21,22,23,24]\n",
    "    condition = []\n",
    "    condition_s = [1]*8+[0]*8\n",
    "    condition_p = [0]*8+[1]*8\n",
    "    print(data_voxels[1][0].shape)\n",
    "    print(data['meta']['colToROI'][0][0][8][0][0])\n",
    "    voxel_list = prepare_ROI_voxel_list()\n",
    "    print(len(voxel_list))\n",
    "    print(\"loop\",len(data_voxels))\n",
    "    for i in range(1,len(data_voxels)):\n",
    "        if(data_info['cond'][0][i][0][0]==2 or data_info['cond'][0][i][0][0]==3 and data_voxels[i][0].shape[0]>25):\n",
    "            #print(data_voxels[i][0][stimulus_period][2])\n",
    "            #print(data_voxels[i][0][stimulus_period].shape)\n",
    "            for k in stimulus_period:\n",
    "                #print(len(data_voxels[i][0][[k]][0][voxel_list]))\n",
    "                out.append(data_voxels[i][0][[k]][0][voxel_list])\n",
    "                #out.extend(data_voxels[i][0][stimulus_period])\n",
    "            print(len(out))\n",
    "            if (i<27):\n",
    "                condition += condition_p\n",
    "            else:\n",
    "                condition += condition_s\n",
    "    \n",
    "    print(len(out))\n",
    "    print(len(condition))\n",
    "    return np.array(out),np.array(condition)\n"
   ]
  },
  {
   "cell_type": "code",
   "execution_count": 132,
   "metadata": {},
   "outputs": [],
   "source": [
    "# function to obtain the 3D voxel stimulus data \n",
    "def get_trial_data_for_stimulus(data):\n",
    "    data_voxels = data['data']\n",
    "    data_info = data['info']\n",
    "    data_meta = data['meta']\n",
    "    print(data_info['cond'][0][53][0][0])\n",
    "    # The first stimulus (sentence or picture) was presented at the begining of the trail (image=1).\n",
    "    # Four seconds later (image=9) the stimulus was removed, replaced by a blank screen.\n",
    "    # Four seconds later (image=17) the second stimulus was presented. This remained on the screen for four seconds, or until the subject pressed the mouse button, whichever came first.\n",
    "    # A rest period of 15 seconds (30 images) was added after the second stimulus was removed from the screen. Thus, each trial lasted a total of approximately 27 seconds (approximately 54 images).\n",
    "    out = []\n",
    "    stimulus_period = [1,2,3,4,5,6,7,8,17,18,19,20,21,22,23,24]\n",
    "    condition = []\n",
    "    condition_s = [1]*8+[0]*8\n",
    "    condition_p = [0]*8+[1]*8\n",
    "    print(data_voxels[1][0].shape)\n",
    "    print(data['meta']['colToROI'][0][0][8][0][0])\n",
    "    for i in range(1,len(data_voxels)):\n",
    "        if(data_info['cond'][0][i][0][0]==2 or data_info['cond'][0][i][0][0]==3 and data_voxels[i][0].shape[0]>25):\n",
    "            \n",
    "            out.extend(data_voxels[i][0][stimulus_period])\n",
    "            if (i<27):\n",
    "                condition += condition_p\n",
    "            else:\n",
    "                condition += condition_s\n",
    "                \n",
    "    print(len(out))\n",
    "    print(len(condition))\n",
    "    return np.array(out),np.array(condition)\n"
   ]
  },
  {
   "cell_type": "code",
   "execution_count": 136,
   "metadata": {},
   "outputs": [
    {
     "name": "stdout",
     "output_type": "stream",
     "text": [
      "0\n",
      "(55, 4698)\n",
      "LDLPFC\n",
      "1678\n",
      "loop 54\n",
      "16\n",
      "32\n",
      "48\n",
      "64\n",
      "80\n",
      "96\n",
      "112\n",
      "128\n",
      "144\n",
      "160\n",
      "176\n",
      "192\n",
      "208\n",
      "224\n",
      "240\n",
      "256\n",
      "272\n",
      "288\n",
      "304\n",
      "320\n",
      "336\n",
      "352\n",
      "368\n",
      "384\n",
      "400\n",
      "416\n",
      "432\n",
      "448\n",
      "464\n",
      "480\n",
      "496\n",
      "512\n",
      "528\n",
      "544\n",
      "560\n",
      "576\n",
      "592\n",
      "608\n",
      "624\n",
      "640\n",
      "640\n",
      "640\n",
      "Extracted stimulus data for the trial: shape -  (640, 1678) <class 'numpy.ndarray'>\n",
      "Extracted stimulus label for the trial: shape -  640 <class 'numpy.ndarray'>\n"
     ]
    },
    {
     "name": "stderr",
     "output_type": "stream",
     "text": [
      "/Users/sumanth/opt/anaconda3/lib/python3.7/site-packages/ipykernel_launcher.py:4: FutureWarning: elementwise comparison failed; returning scalar instead, but in the future will perform elementwise comparison\n",
      "  after removing the cwd from sys.path.\n"
     ]
    }
   ],
   "source": [
    "X, y = get_trial_data_for_stimulus_with_ROI_selection(data)\n",
    "print(\"Extracted stimulus data for the trial: shape - \",(X.shape), type(X))\n",
    "print(\"Extracted stimulus label for the trial: shape - \",(len(y)), type(y))\n"
   ]
  },
  {
   "cell_type": "code",
   "execution_count": 137,
   "metadata": {},
   "outputs": [],
   "source": [
    "import numpy as np\n",
    "import matplotlib.pyplot as plt\n",
    "\n",
    "from sklearn.ensemble import BaggingRegressor\n",
    "from sklearn.tree import DecisionTreeRegressor\n"
   ]
  },
  {
   "cell_type": "code",
   "execution_count": 155,
   "metadata": {},
   "outputs": [
    {
     "name": "stdout",
     "output_type": "stream",
     "text": [
      "(212, 1678)\n"
     ]
    },
    {
     "ename": "IndexError",
     "evalue": "too many indices for array",
     "output_type": "error",
     "traceback": [
      "\u001b[0;31m---------------------------------------------------------------------------\u001b[0m",
      "\u001b[0;31mIndexError\u001b[0m                                Traceback (most recent call last)",
      "\u001b[0;32m<ipython-input-155-a4b384d62c33>\u001b[0m in \u001b[0;36m<module>\u001b[0;34m\u001b[0m\n\u001b[1;32m     35\u001b[0m     \u001b[0;32mfor\u001b[0m \u001b[0mi\u001b[0m \u001b[0;32min\u001b[0m \u001b[0mrange\u001b[0m\u001b[0;34m(\u001b[0m\u001b[0mn_repeat\u001b[0m\u001b[0;34m)\u001b[0m\u001b[0;34m:\u001b[0m\u001b[0;34m\u001b[0m\u001b[0;34m\u001b[0m\u001b[0m\n\u001b[1;32m     36\u001b[0m         \u001b[0;32mfor\u001b[0m \u001b[0mj\u001b[0m \u001b[0;32min\u001b[0m \u001b[0mrange\u001b[0m\u001b[0;34m(\u001b[0m\u001b[0mn_repeat\u001b[0m\u001b[0;34m)\u001b[0m\u001b[0;34m:\u001b[0m\u001b[0;34m\u001b[0m\u001b[0;34m\u001b[0m\u001b[0m\n\u001b[0;32m---> 37\u001b[0;31m             \u001b[0my_error\u001b[0m \u001b[0;34m+=\u001b[0m \u001b[0;34m(\u001b[0m\u001b[0my_test\u001b[0m\u001b[0;34m[\u001b[0m\u001b[0;34m:\u001b[0m\u001b[0;34m,\u001b[0m \u001b[0mj\u001b[0m\u001b[0;34m]\u001b[0m \u001b[0;34m-\u001b[0m \u001b[0my_predict\u001b[0m\u001b[0;34m[\u001b[0m\u001b[0;34m:\u001b[0m\u001b[0;34m,\u001b[0m \u001b[0mi\u001b[0m\u001b[0;34m]\u001b[0m\u001b[0;34m)\u001b[0m \u001b[0;34m**\u001b[0m \u001b[0;36m2\u001b[0m\u001b[0;34m\u001b[0m\u001b[0;34m\u001b[0m\u001b[0m\n\u001b[0m\u001b[1;32m     38\u001b[0m \u001b[0;34m\u001b[0m\u001b[0m\n\u001b[1;32m     39\u001b[0m     \u001b[0my_error\u001b[0m \u001b[0;34m/=\u001b[0m \u001b[0;34m(\u001b[0m\u001b[0mn_repeat\u001b[0m \u001b[0;34m*\u001b[0m \u001b[0mn_repeat\u001b[0m\u001b[0;34m)\u001b[0m\u001b[0;34m\u001b[0m\u001b[0;34m\u001b[0m\u001b[0m\n",
      "\u001b[0;31mIndexError\u001b[0m: too many indices for array"
     ]
    },
    {
     "data": {
      "text/plain": [
       "<Figure size 720x576 with 0 Axes>"
      ]
     },
     "metadata": {},
     "output_type": "display_data"
    }
   ],
   "source": [
    "\n",
    "# Settings\n",
    "n_repeat = 50       # Number of iterations for computing expectations\n",
    "n_train = 428        # Size of the training set\n",
    "n_test = 212      # Size of the test set\n",
    "noise = 0.1         # Standard deviation of the noise\n",
    "np.random.seed(0)\n",
    "\n",
    "# Change this for exploring the bias-variance decomposition of other\n",
    "# estimators. This should work well for estimators with high variance (e.g.,\n",
    "# decision trees or KNN), but poorly for estimators with low variance (e.g.,\n",
    "# linear models).\n",
    "estimators = [(\"Tree\", DecisionTreeRegressor()),\n",
    "              (\"Bagging(Tree)\", BaggingRegressor(DecisionTreeRegressor()))]\n",
    "\n",
    "n_estimators = len(estimators)\n",
    "\n",
    "\n",
    "\n",
    "X_train, X_test, y_train, y_test = train_test_split(X, y, test_size=0.33, random_state=6)\n",
    "print(X_test.shape)\n",
    "plt.figure(figsize=(10, 8))\n",
    "estimator.fit(X_train, y_train)\n"
   ]
  },
  {
   "cell_type": "code",
   "execution_count": null,
   "metadata": {},
   "outputs": [],
   "source": []
  },
  {
   "cell_type": "code",
   "execution_count": null,
   "metadata": {},
   "outputs": [],
   "source": []
  }
 ],
 "metadata": {
  "kernelspec": {
   "display_name": "Python 3",
   "language": "python",
   "name": "python3"
  },
  "language_info": {
   "codemirror_mode": {
    "name": "ipython",
    "version": 3
   },
   "file_extension": ".py",
   "mimetype": "text/x-python",
   "name": "python",
   "nbconvert_exporter": "python",
   "pygments_lexer": "ipython3",
   "version": "3.7.6"
  }
 },
 "nbformat": 4,
 "nbformat_minor": 4
}
